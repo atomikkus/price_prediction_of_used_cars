{
 "cells": [
  {
   "cell_type": "code",
   "execution_count": 1,
   "metadata": {},
   "outputs": [],
   "source": [
    "import pandas as pd"
   ]
  },
  {
   "cell_type": "code",
   "execution_count": 5,
   "metadata": {},
   "outputs": [],
   "source": [
    "df = pd.read_csv('https://raw.githubusercontent.com/atomikkus/price_prediction_of_used_cars/main/Dataset/Cars24.csv', index_col=0)"
   ]
  },
  {
   "cell_type": "code",
   "execution_count": 13,
   "metadata": {},
   "outputs": [
    {
     "data": {
      "text/html": [
       "<div>\n",
       "<style scoped>\n",
       "    .dataframe tbody tr th:only-of-type {\n",
       "        vertical-align: middle;\n",
       "    }\n",
       "\n",
       "    .dataframe tbody tr th {\n",
       "        vertical-align: top;\n",
       "    }\n",
       "\n",
       "    .dataframe thead th {\n",
       "        text-align: right;\n",
       "    }\n",
       "</style>\n",
       "<table border=\"1\" class=\"dataframe\">\n",
       "  <thead>\n",
       "    <tr style=\"text-align: right;\">\n",
       "      <th></th>\n",
       "      <th>Car Brand</th>\n",
       "      <th>Model</th>\n",
       "      <th>Price</th>\n",
       "      <th>Model Year</th>\n",
       "      <th>Location</th>\n",
       "      <th>Fuel</th>\n",
       "      <th>Driven (Kms)</th>\n",
       "      <th>Gear</th>\n",
       "      <th>Ownership</th>\n",
       "      <th>EMI (monthly)</th>\n",
       "    </tr>\n",
       "  </thead>\n",
       "  <tbody>\n",
       "    <tr>\n",
       "      <th>0</th>\n",
       "      <td>Hyundai</td>\n",
       "      <td>EonERA PLUS</td>\n",
       "      <td>330399</td>\n",
       "      <td>2016</td>\n",
       "      <td>Hyderabad</td>\n",
       "      <td>Petrol</td>\n",
       "      <td>10674</td>\n",
       "      <td>Manual</td>\n",
       "      <td>2</td>\n",
       "      <td>7350</td>\n",
       "    </tr>\n",
       "    <tr>\n",
       "      <th>1</th>\n",
       "      <td>Maruti</td>\n",
       "      <td>Wagon R 1.0LXI</td>\n",
       "      <td>350199</td>\n",
       "      <td>2011</td>\n",
       "      <td>Hyderabad</td>\n",
       "      <td>Petrol</td>\n",
       "      <td>20979</td>\n",
       "      <td>Manual</td>\n",
       "      <td>1</td>\n",
       "      <td>7790</td>\n",
       "    </tr>\n",
       "    <tr>\n",
       "      <th>2</th>\n",
       "      <td>Maruti</td>\n",
       "      <td>Alto K10LXI</td>\n",
       "      <td>229199</td>\n",
       "      <td>2011</td>\n",
       "      <td>Hyderabad</td>\n",
       "      <td>Petrol</td>\n",
       "      <td>47330</td>\n",
       "      <td>Manual</td>\n",
       "      <td>2</td>\n",
       "      <td>5098</td>\n",
       "    </tr>\n",
       "    <tr>\n",
       "      <th>3</th>\n",
       "      <td>Maruti</td>\n",
       "      <td>RitzVXI BS IV</td>\n",
       "      <td>306399</td>\n",
       "      <td>2011</td>\n",
       "      <td>Hyderabad</td>\n",
       "      <td>Petrol</td>\n",
       "      <td>19662</td>\n",
       "      <td>Manual</td>\n",
       "      <td>1</td>\n",
       "      <td>6816</td>\n",
       "    </tr>\n",
       "    <tr>\n",
       "      <th>4</th>\n",
       "      <td>Tata</td>\n",
       "      <td>NanoTWIST XTA</td>\n",
       "      <td>208699</td>\n",
       "      <td>2015</td>\n",
       "      <td>Hyderabad</td>\n",
       "      <td>Petrol</td>\n",
       "      <td>11256</td>\n",
       "      <td>Automatic</td>\n",
       "      <td>1</td>\n",
       "      <td>4642</td>\n",
       "    </tr>\n",
       "    <tr>\n",
       "      <th>5</th>\n",
       "      <td>Maruti</td>\n",
       "      <td>AltoLXI</td>\n",
       "      <td>249699</td>\n",
       "      <td>2012</td>\n",
       "      <td>Hyderabad</td>\n",
       "      <td>Petrol</td>\n",
       "      <td>28434</td>\n",
       "      <td>Manual</td>\n",
       "      <td>1</td>\n",
       "      <td>5554</td>\n",
       "    </tr>\n",
       "    <tr>\n",
       "      <th>6</th>\n",
       "      <td>Maruti</td>\n",
       "      <td>AltoLXI</td>\n",
       "      <td>240599</td>\n",
       "      <td>2011</td>\n",
       "      <td>Hyderabad</td>\n",
       "      <td>Petrol</td>\n",
       "      <td>31119</td>\n",
       "      <td>Manual</td>\n",
       "      <td>1</td>\n",
       "      <td>5352</td>\n",
       "    </tr>\n",
       "    <tr>\n",
       "      <th>7</th>\n",
       "      <td>Maruti</td>\n",
       "      <td>Alto K10LXI</td>\n",
       "      <td>191999</td>\n",
       "      <td>2010</td>\n",
       "      <td>Hyderabad</td>\n",
       "      <td>Petrol</td>\n",
       "      <td>10910</td>\n",
       "      <td>Manual</td>\n",
       "      <td>1</td>\n",
       "      <td>4271</td>\n",
       "    </tr>\n",
       "    <tr>\n",
       "      <th>8</th>\n",
       "      <td>Honda</td>\n",
       "      <td>Brio1.2 S MT I VTEC</td>\n",
       "      <td>362299</td>\n",
       "      <td>2013</td>\n",
       "      <td>Hyderabad</td>\n",
       "      <td>Petrol</td>\n",
       "      <td>40362</td>\n",
       "      <td>Manual</td>\n",
       "      <td>2</td>\n",
       "      <td>8059</td>\n",
       "    </tr>\n",
       "    <tr>\n",
       "      <th>9</th>\n",
       "      <td>Maruti</td>\n",
       "      <td>Wagon R 1.0VXI</td>\n",
       "      <td>385799</td>\n",
       "      <td>2014</td>\n",
       "      <td>Hyderabad</td>\n",
       "      <td>Petrol</td>\n",
       "      <td>15673</td>\n",
       "      <td>Manual</td>\n",
       "      <td>2</td>\n",
       "      <td>8582</td>\n",
       "    </tr>\n",
       "  </tbody>\n",
       "</table>\n",
       "</div>"
      ],
      "text/plain": [
       "  Car Brand                Model   Price  Model Year   Location    Fuel  \\\n",
       "0   Hyundai          EonERA PLUS  330399        2016  Hyderabad  Petrol   \n",
       "1    Maruti       Wagon R 1.0LXI  350199        2011  Hyderabad  Petrol   \n",
       "2    Maruti          Alto K10LXI  229199        2011  Hyderabad  Petrol   \n",
       "3    Maruti        RitzVXI BS IV  306399        2011  Hyderabad  Petrol   \n",
       "4      Tata        NanoTWIST XTA  208699        2015  Hyderabad  Petrol   \n",
       "5    Maruti              AltoLXI  249699        2012  Hyderabad  Petrol   \n",
       "6    Maruti              AltoLXI  240599        2011  Hyderabad  Petrol   \n",
       "7    Maruti          Alto K10LXI  191999        2010  Hyderabad  Petrol   \n",
       "8     Honda  Brio1.2 S MT I VTEC  362299        2013  Hyderabad  Petrol   \n",
       "9    Maruti       Wagon R 1.0VXI  385799        2014  Hyderabad  Petrol   \n",
       "\n",
       "   Driven (Kms)       Gear  Ownership  EMI (monthly)  \n",
       "0         10674     Manual          2           7350  \n",
       "1         20979     Manual          1           7790  \n",
       "2         47330     Manual          2           5098  \n",
       "3         19662     Manual          1           6816  \n",
       "4         11256  Automatic          1           4642  \n",
       "5         28434     Manual          1           5554  \n",
       "6         31119     Manual          1           5352  \n",
       "7         10910     Manual          1           4271  \n",
       "8         40362     Manual          2           8059  \n",
       "9         15673     Manual          2           8582  "
      ]
     },
     "execution_count": 13,
     "metadata": {},
     "output_type": "execute_result"
    }
   ],
   "source": [
    "df.head(10)"
   ]
  },
  {
   "cell_type": "markdown",
   "metadata": {},
   "source": [
    "# Preprocessing "
   ]
  },
  {
   "cell_type": "code",
   "execution_count": 12,
   "metadata": {},
   "outputs": [
    {
     "data": {
      "text/plain": [
       "Car Brand          0\n",
       "Model            265\n",
       "Price              0\n",
       "Model Year         0\n",
       "Location           0\n",
       "Fuel               0\n",
       "Driven (Kms)       0\n",
       "Gear             265\n",
       "Ownership          0\n",
       "EMI (monthly)      0\n",
       "dtype: int64"
      ]
     },
     "execution_count": 12,
     "metadata": {},
     "output_type": "execute_result"
    }
   ],
   "source": [
    "df.isnull().sum() # Check for  missing values"
   ]
  },
  {
   "cell_type": "code",
   "execution_count": 32,
   "metadata": {},
   "outputs": [
    {
     "name": "stdout",
     "output_type": "stream",
     "text": [
      "Maruti        2819\n",
      "Hyundai       1281\n",
      "Honda          465\n",
      "Toyota         301\n",
      "Volkswagen     192\n",
      "Renault        174\n",
      "Mahindra       143\n",
      "Ford           142\n",
      "Tata            91\n",
      "Skoda           51\n",
      "Mercedes        34\n",
      "Nissan          33\n",
      "Chevrolet       32\n",
      "BMW             26\n",
      "Audi            25\n",
      "Datsun          24\n",
      "MG              21\n",
      "KIA             21\n",
      "Jeep            15\n",
      "Fiat            12\n",
      "Landrover        5\n",
      "Ssangyong        3\n",
      "Jaguar           3\n",
      "Mitsubishi       2\n",
      "Volvo            1\n",
      "ISUZU            1\n",
      "TOYOTA           1\n",
      "Name: Car Brand, dtype: int64\n",
      "Alto 800LXI               184\n",
      "Wagon R 1.0VXI            177\n",
      "Alto K10VXI               156\n",
      "SwiftVDI                  137\n",
      "SwiftVXI                  135\n",
      "                         ... \n",
      "TIAGO NRGPETROL             1\n",
      "Kuv100K8 D 6 STR            1\n",
      "Santro XingGL CNG           1\n",
      "CityVX MT O DIESEL          1\n",
      "i10SPORTZ 1.2 KAPPA2 O      1\n",
      "Name: Model, Length: 902, dtype: int64\n",
      "Delhi        2312\n",
      "Mumbai       1760\n",
      "Bangalore     822\n",
      "Chennai       614\n",
      "Hyderabad     410\n",
      "Name: Location, dtype: int64\n",
      "Petrol          3787\n",
      "Diesel          1964\n",
      "Petrol + CNG     147\n",
      "Petrol + LPG      18\n",
      "Electric           2\n",
      "Name: Fuel, dtype: int64\n",
      "Manual       5075\n",
      "Automatic     578\n",
      "Name: Gear, dtype: int64\n",
      "1    4448\n",
      "2    1264\n",
      "3     191\n",
      "4      15\n",
      "Name: Ownership, dtype: int64\n"
     ]
    }
   ],
   "source": [
    "cat_cols = ['Car Brand', 'Model', 'Location', 'Fuel', 'Gear', 'Ownership']\n",
    "\n",
    "for i in cat_cols:\n",
    "    print(df[i].value_counts())"
   ]
  },
  {
   "cell_type": "code",
   "execution_count": 16,
   "metadata": {},
   "outputs": [
    {
     "data": {
      "text/html": [
       "<div>\n",
       "<style scoped>\n",
       "    .dataframe tbody tr th:only-of-type {\n",
       "        vertical-align: middle;\n",
       "    }\n",
       "\n",
       "    .dataframe tbody tr th {\n",
       "        vertical-align: top;\n",
       "    }\n",
       "\n",
       "    .dataframe thead th {\n",
       "        text-align: right;\n",
       "    }\n",
       "</style>\n",
       "<table border=\"1\" class=\"dataframe\">\n",
       "  <thead>\n",
       "    <tr style=\"text-align: right;\">\n",
       "      <th></th>\n",
       "      <th>Price</th>\n",
       "      <th>Model Year</th>\n",
       "      <th>Driven (Kms)</th>\n",
       "      <th>Ownership</th>\n",
       "      <th>EMI (monthly)</th>\n",
       "    </tr>\n",
       "  </thead>\n",
       "  <tbody>\n",
       "    <tr>\n",
       "      <th>count</th>\n",
       "      <td>5.918000e+03</td>\n",
       "      <td>5918.000000</td>\n",
       "      <td>5918.000000</td>\n",
       "      <td>5918.000000</td>\n",
       "      <td>5918.000000</td>\n",
       "    </tr>\n",
       "    <tr>\n",
       "      <th>mean</th>\n",
       "      <td>5.180530e+05</td>\n",
       "      <td>2014.547651</td>\n",
       "      <td>60842.778979</td>\n",
       "      <td>1.285738</td>\n",
       "      <td>11523.801284</td>\n",
       "    </tr>\n",
       "    <tr>\n",
       "      <th>std</th>\n",
       "      <td>3.224695e+05</td>\n",
       "      <td>2.905185</td>\n",
       "      <td>42362.990292</td>\n",
       "      <td>0.532820</td>\n",
       "      <td>7173.156118</td>\n",
       "    </tr>\n",
       "    <tr>\n",
       "      <th>min</th>\n",
       "      <td>9.100000e+04</td>\n",
       "      <td>2007.000000</td>\n",
       "      <td>179.000000</td>\n",
       "      <td>1.000000</td>\n",
       "      <td>2024.000000</td>\n",
       "    </tr>\n",
       "    <tr>\n",
       "      <th>25%</th>\n",
       "      <td>3.205240e+05</td>\n",
       "      <td>2012.000000</td>\n",
       "      <td>30856.000000</td>\n",
       "      <td>1.000000</td>\n",
       "      <td>7129.750000</td>\n",
       "    </tr>\n",
       "    <tr>\n",
       "      <th>50%</th>\n",
       "      <td>4.303990e+05</td>\n",
       "      <td>2015.000000</td>\n",
       "      <td>53514.000000</td>\n",
       "      <td>1.000000</td>\n",
       "      <td>9574.000000</td>\n",
       "    </tr>\n",
       "    <tr>\n",
       "      <th>75%</th>\n",
       "      <td>6.157990e+05</td>\n",
       "      <td>2017.000000</td>\n",
       "      <td>81979.250000</td>\n",
       "      <td>1.000000</td>\n",
       "      <td>13698.000000</td>\n",
       "    </tr>\n",
       "    <tr>\n",
       "      <th>max</th>\n",
       "      <td>6.500000e+06</td>\n",
       "      <td>2021.000000</td>\n",
       "      <td>912380.000000</td>\n",
       "      <td>4.000000</td>\n",
       "      <td>144589.000000</td>\n",
       "    </tr>\n",
       "  </tbody>\n",
       "</table>\n",
       "</div>"
      ],
      "text/plain": [
       "              Price   Model Year   Driven (Kms)    Ownership  EMI (monthly)\n",
       "count  5.918000e+03  5918.000000    5918.000000  5918.000000    5918.000000\n",
       "mean   5.180530e+05  2014.547651   60842.778979     1.285738   11523.801284\n",
       "std    3.224695e+05     2.905185   42362.990292     0.532820    7173.156118\n",
       "min    9.100000e+04  2007.000000     179.000000     1.000000    2024.000000\n",
       "25%    3.205240e+05  2012.000000   30856.000000     1.000000    7129.750000\n",
       "50%    4.303990e+05  2015.000000   53514.000000     1.000000    9574.000000\n",
       "75%    6.157990e+05  2017.000000   81979.250000     1.000000   13698.000000\n",
       "max    6.500000e+06  2021.000000  912380.000000     4.000000  144589.000000"
      ]
     },
     "execution_count": 16,
     "metadata": {},
     "output_type": "execute_result"
    }
   ],
   "source": [
    "df.describe() # descriptive stats for referance"
   ]
  },
  {
   "cell_type": "markdown",
   "metadata": {},
   "source": [
    "#### We have to feature engineer the Model column as it gives two types of Info, one  is about the model itself and another is about the sub-model sort"
   ]
  },
  {
   "cell_type": "code",
   "execution_count": 57,
   "metadata": {},
   "outputs": [],
   "source": [
    "def make_model(string):\n",
    "\n",
    "    make = string.split()[0]\n",
    "    model = ' '.join(string.split()[1:])\n",
    "    \n",
    "    return make, model\n",
    "\n"
   ]
  },
  {
   "cell_type": "code",
   "execution_count": 61,
   "metadata": {},
   "outputs": [
    {
     "data": {
      "text/plain": [
       "('NanoTWIST', 'XTA')"
      ]
     },
     "execution_count": 61,
     "metadata": {},
     "output_type": "execute_result"
    }
   ],
   "source": [
    "# Testing\n",
    "make_model('NanoTWIST XTA')"
   ]
  },
  {
   "cell_type": "code",
   "execution_count": 59,
   "metadata": {},
   "outputs": [],
   "source": [
    "df[['Make', 'Model']]=df['Model'].astype('str').apply(make_model).apply(pd.Series)"
   ]
  },
  {
   "cell_type": "markdown",
   "metadata": {},
   "source": [
    "#### Dropping Useless columns for analysis"
   ]
  },
  {
   "cell_type": "code",
   "execution_count": 67,
   "metadata": {},
   "outputs": [],
   "source": [
    "df.drop(['EMI (monthly)'], axis=1, inplace=True)"
   ]
  },
  {
   "cell_type": "code",
   "execution_count": 68,
   "metadata": {},
   "outputs": [],
   "source": [
    "df['Total_price']=df.pop('Price')"
   ]
  },
  {
   "cell_type": "code",
   "execution_count": 70,
   "metadata": {},
   "outputs": [
    {
     "data": {
      "text/plain": [
       "Alto         455\n",
       "Swift        342\n",
       "Wagon        289\n",
       "nan          265\n",
       "Grand        208\n",
       "            ... \n",
       "Safari         1\n",
       "XFPETROL       1\n",
       "Sonata2.4      1\n",
       "ScalaRXZ       1\n",
       "BoltXT         1\n",
       "Name: Make, Length: 351, dtype: int64"
      ]
     },
     "execution_count": 70,
     "metadata": {},
     "output_type": "execute_result"
    }
   ],
   "source": [
    "df['Make'].value_counts()"
   ]
  },
  {
   "cell_type": "code",
   "execution_count": null,
   "metadata": {},
   "outputs": [],
   "source": []
  }
 ],
 "metadata": {
  "kernelspec": {
   "display_name": "Python 3",
   "language": "python",
   "name": "python3"
  },
  "language_info": {
   "codemirror_mode": {
    "name": "ipython",
    "version": 3
   },
   "file_extension": ".py",
   "mimetype": "text/x-python",
   "name": "python",
   "nbconvert_exporter": "python",
   "pygments_lexer": "ipython3",
   "version": "3.10.2"
  }
 },
 "nbformat": 4,
 "nbformat_minor": 2
}
